{
 "cells": [
  {
   "cell_type": "code",
   "execution_count": 21,
   "metadata": {},
   "outputs": [
    {
     "name": "stdout",
     "output_type": "stream",
     "text": [
      "Collecting git+https://github.com/dmmiller612/bert-extractive-summarizer.git@small-updates\n",
      "  Cloning https://github.com/dmmiller612/bert-extractive-summarizer.git (to revision small-updates) to /tmp/pip-req-build-yu6fmypw\n",
      "  Running command git clone --filter=blob:none --quiet https://github.com/dmmiller612/bert-extractive-summarizer.git /tmp/pip-req-build-yu6fmypw\n",
      "  Running command git checkout -b small-updates --track origin/small-updates\n",
      "  Switched to a new branch 'small-updates'\n",
      "  branch 'small-updates' set up to track 'origin/small-updates'.\n",
      "  Resolved https://github.com/dmmiller612/bert-extractive-summarizer.git to commit 7c3362dfd41c0adeffbb707dbbee7ce5938633d8\n",
      "  Installing build dependencies ... \u001b[?25ldone\n",
      "\u001b[?25h  Getting requirements to build wheel ... \u001b[?25ldone\n",
      "\u001b[?25h  Preparing metadata (pyproject.toml) ... \u001b[?25ldone\n",
      "\u001b[?25hRequirement already satisfied: transformers in ./.env/lib/python3.12/site-packages (from bert-extractive-summarizer==0.5.0) (4.50.3)\n",
      "Requirement already satisfied: scikit-learn in ./.env/lib/python3.12/site-packages (from bert-extractive-summarizer==0.5.0) (1.6.1)\n",
      "Requirement already satisfied: spacy in ./.env/lib/python3.12/site-packages (from bert-extractive-summarizer==0.5.0) (3.8.4)\n",
      "Requirement already satisfied: numpy>=1.19.5 in ./.env/lib/python3.12/site-packages (from scikit-learn->bert-extractive-summarizer==0.5.0) (2.2.4)\n",
      "Requirement already satisfied: scipy>=1.6.0 in ./.env/lib/python3.12/site-packages (from scikit-learn->bert-extractive-summarizer==0.5.0) (1.15.2)\n",
      "Requirement already satisfied: joblib>=1.2.0 in ./.env/lib/python3.12/site-packages (from scikit-learn->bert-extractive-summarizer==0.5.0) (1.4.2)\n",
      "Requirement already satisfied: threadpoolctl>=3.1.0 in ./.env/lib/python3.12/site-packages (from scikit-learn->bert-extractive-summarizer==0.5.0) (3.6.0)\n",
      "Requirement already satisfied: spacy-legacy<3.1.0,>=3.0.11 in ./.env/lib/python3.12/site-packages (from spacy->bert-extractive-summarizer==0.5.0) (3.0.12)\n",
      "Requirement already satisfied: spacy-loggers<2.0.0,>=1.0.0 in ./.env/lib/python3.12/site-packages (from spacy->bert-extractive-summarizer==0.5.0) (1.0.5)\n",
      "Requirement already satisfied: murmurhash<1.1.0,>=0.28.0 in ./.env/lib/python3.12/site-packages (from spacy->bert-extractive-summarizer==0.5.0) (1.0.12)\n",
      "Requirement already satisfied: cymem<2.1.0,>=2.0.2 in ./.env/lib/python3.12/site-packages (from spacy->bert-extractive-summarizer==0.5.0) (2.0.11)\n",
      "Requirement already satisfied: preshed<3.1.0,>=3.0.2 in ./.env/lib/python3.12/site-packages (from spacy->bert-extractive-summarizer==0.5.0) (3.0.9)\n",
      "Requirement already satisfied: thinc<8.4.0,>=8.3.4 in ./.env/lib/python3.12/site-packages (from spacy->bert-extractive-summarizer==0.5.0) (8.3.4)\n",
      "Requirement already satisfied: wasabi<1.2.0,>=0.9.1 in ./.env/lib/python3.12/site-packages (from spacy->bert-extractive-summarizer==0.5.0) (1.1.3)\n",
      "Requirement already satisfied: srsly<3.0.0,>=2.4.3 in ./.env/lib/python3.12/site-packages (from spacy->bert-extractive-summarizer==0.5.0) (2.5.1)\n",
      "Requirement already satisfied: catalogue<2.1.0,>=2.0.6 in ./.env/lib/python3.12/site-packages (from spacy->bert-extractive-summarizer==0.5.0) (2.0.10)\n",
      "Requirement already satisfied: weasel<0.5.0,>=0.1.0 in ./.env/lib/python3.12/site-packages (from spacy->bert-extractive-summarizer==0.5.0) (0.4.1)\n",
      "Requirement already satisfied: typer<1.0.0,>=0.3.0 in ./.env/lib/python3.12/site-packages (from spacy->bert-extractive-summarizer==0.5.0) (0.15.2)\n",
      "Requirement already satisfied: tqdm<5.0.0,>=4.38.0 in ./.env/lib/python3.12/site-packages (from spacy->bert-extractive-summarizer==0.5.0) (4.67.1)\n",
      "Requirement already satisfied: requests<3.0.0,>=2.13.0 in ./.env/lib/python3.12/site-packages (from spacy->bert-extractive-summarizer==0.5.0) (2.32.3)\n",
      "Requirement already satisfied: pydantic!=1.8,!=1.8.1,<3.0.0,>=1.7.4 in ./.env/lib/python3.12/site-packages (from spacy->bert-extractive-summarizer==0.5.0) (2.11.1)\n",
      "Requirement already satisfied: jinja2 in ./.env/lib/python3.12/site-packages (from spacy->bert-extractive-summarizer==0.5.0) (3.1.6)\n",
      "Requirement already satisfied: setuptools in ./.env/lib/python3.12/site-packages (from spacy->bert-extractive-summarizer==0.5.0) (78.1.0)\n",
      "Requirement already satisfied: packaging>=20.0 in ./.env/lib/python3.12/site-packages (from spacy->bert-extractive-summarizer==0.5.0) (24.2)\n",
      "Requirement already satisfied: langcodes<4.0.0,>=3.2.0 in ./.env/lib/python3.12/site-packages (from spacy->bert-extractive-summarizer==0.5.0) (3.5.0)\n",
      "Requirement already satisfied: filelock in ./.env/lib/python3.12/site-packages (from transformers->bert-extractive-summarizer==0.5.0) (3.18.0)\n",
      "Requirement already satisfied: huggingface-hub<1.0,>=0.26.0 in ./.env/lib/python3.12/site-packages (from transformers->bert-extractive-summarizer==0.5.0) (0.29.3)\n",
      "Requirement already satisfied: pyyaml>=5.1 in ./.env/lib/python3.12/site-packages (from transformers->bert-extractive-summarizer==0.5.0) (6.0.2)\n",
      "Requirement already satisfied: regex!=2019.12.17 in ./.env/lib/python3.12/site-packages (from transformers->bert-extractive-summarizer==0.5.0) (2024.11.6)\n",
      "Requirement already satisfied: tokenizers<0.22,>=0.21 in ./.env/lib/python3.12/site-packages (from transformers->bert-extractive-summarizer==0.5.0) (0.21.1)\n",
      "Requirement already satisfied: safetensors>=0.4.3 in ./.env/lib/python3.12/site-packages (from transformers->bert-extractive-summarizer==0.5.0) (0.5.3)\n",
      "Requirement already satisfied: fsspec>=2023.5.0 in ./.env/lib/python3.12/site-packages (from huggingface-hub<1.0,>=0.26.0->transformers->bert-extractive-summarizer==0.5.0) (2025.3.0)\n",
      "Requirement already satisfied: typing-extensions>=3.7.4.3 in ./.env/lib/python3.12/site-packages (from huggingface-hub<1.0,>=0.26.0->transformers->bert-extractive-summarizer==0.5.0) (4.13.0)\n",
      "Requirement already satisfied: language-data>=1.2 in ./.env/lib/python3.12/site-packages (from langcodes<4.0.0,>=3.2.0->spacy->bert-extractive-summarizer==0.5.0) (1.3.0)\n",
      "Requirement already satisfied: annotated-types>=0.6.0 in ./.env/lib/python3.12/site-packages (from pydantic!=1.8,!=1.8.1,<3.0.0,>=1.7.4->spacy->bert-extractive-summarizer==0.5.0) (0.7.0)\n",
      "Requirement already satisfied: pydantic-core==2.33.0 in ./.env/lib/python3.12/site-packages (from pydantic!=1.8,!=1.8.1,<3.0.0,>=1.7.4->spacy->bert-extractive-summarizer==0.5.0) (2.33.0)\n",
      "Requirement already satisfied: typing-inspection>=0.4.0 in ./.env/lib/python3.12/site-packages (from pydantic!=1.8,!=1.8.1,<3.0.0,>=1.7.4->spacy->bert-extractive-summarizer==0.5.0) (0.4.0)\n",
      "Requirement already satisfied: charset-normalizer<4,>=2 in ./.env/lib/python3.12/site-packages (from requests<3.0.0,>=2.13.0->spacy->bert-extractive-summarizer==0.5.0) (3.4.1)\n",
      "Requirement already satisfied: idna<4,>=2.5 in ./.env/lib/python3.12/site-packages (from requests<3.0.0,>=2.13.0->spacy->bert-extractive-summarizer==0.5.0) (3.10)\n",
      "Requirement already satisfied: urllib3<3,>=1.21.1 in ./.env/lib/python3.12/site-packages (from requests<3.0.0,>=2.13.0->spacy->bert-extractive-summarizer==0.5.0) (2.3.0)\n",
      "Requirement already satisfied: certifi>=2017.4.17 in ./.env/lib/python3.12/site-packages (from requests<3.0.0,>=2.13.0->spacy->bert-extractive-summarizer==0.5.0) (2025.1.31)\n",
      "Requirement already satisfied: blis<1.3.0,>=1.2.0 in ./.env/lib/python3.12/site-packages (from thinc<8.4.0,>=8.3.4->spacy->bert-extractive-summarizer==0.5.0) (1.2.0)\n",
      "Requirement already satisfied: confection<1.0.0,>=0.0.1 in ./.env/lib/python3.12/site-packages (from thinc<8.4.0,>=8.3.4->spacy->bert-extractive-summarizer==0.5.0) (0.1.5)\n",
      "Requirement already satisfied: click>=8.0.0 in ./.env/lib/python3.12/site-packages (from typer<1.0.0,>=0.3.0->spacy->bert-extractive-summarizer==0.5.0) (8.1.8)\n",
      "Requirement already satisfied: shellingham>=1.3.0 in ./.env/lib/python3.12/site-packages (from typer<1.0.0,>=0.3.0->spacy->bert-extractive-summarizer==0.5.0) (1.5.4)\n",
      "Requirement already satisfied: rich>=10.11.0 in ./.env/lib/python3.12/site-packages (from typer<1.0.0,>=0.3.0->spacy->bert-extractive-summarizer==0.5.0) (13.9.4)\n",
      "Requirement already satisfied: cloudpathlib<1.0.0,>=0.7.0 in ./.env/lib/python3.12/site-packages (from weasel<0.5.0,>=0.1.0->spacy->bert-extractive-summarizer==0.5.0) (0.21.0)\n",
      "Requirement already satisfied: smart-open<8.0.0,>=5.2.1 in ./.env/lib/python3.12/site-packages (from weasel<0.5.0,>=0.1.0->spacy->bert-extractive-summarizer==0.5.0) (7.1.0)\n",
      "Requirement already satisfied: MarkupSafe>=2.0 in ./.env/lib/python3.12/site-packages (from jinja2->spacy->bert-extractive-summarizer==0.5.0) (3.0.2)\n",
      "Requirement already satisfied: marisa-trie>=1.1.0 in ./.env/lib/python3.12/site-packages (from language-data>=1.2->langcodes<4.0.0,>=3.2.0->spacy->bert-extractive-summarizer==0.5.0) (1.2.1)\n",
      "Requirement already satisfied: markdown-it-py>=2.2.0 in ./.env/lib/python3.12/site-packages (from rich>=10.11.0->typer<1.0.0,>=0.3.0->spacy->bert-extractive-summarizer==0.5.0) (3.0.0)\n",
      "Requirement already satisfied: pygments<3.0.0,>=2.13.0 in ./.env/lib/python3.12/site-packages (from rich>=10.11.0->typer<1.0.0,>=0.3.0->spacy->bert-extractive-summarizer==0.5.0) (2.19.1)\n",
      "Requirement already satisfied: wrapt in ./.env/lib/python3.12/site-packages (from smart-open<8.0.0,>=5.2.1->weasel<0.5.0,>=0.1.0->spacy->bert-extractive-summarizer==0.5.0) (1.17.2)\n",
      "Requirement already satisfied: mdurl~=0.1 in ./.env/lib/python3.12/site-packages (from markdown-it-py>=2.2.0->rich>=10.11.0->typer<1.0.0,>=0.3.0->spacy->bert-extractive-summarizer==0.5.0) (0.1.2)\n"
     ]
    }
   ],
   "source": [
    "!pip install git+https://github.com/dmmiller612/bert-extractive-summarizer.git@small-updates    "
   ]
  },
  {
   "cell_type": "code",
   "execution_count": 22,
   "metadata": {},
   "outputs": [
    {
     "ename": "ValueError",
     "evalue": "[E966] `nlp.add_pipe` now takes the string name of the registered component factory, not a callable component. Expected string, but got <spacy.pipeline.sentencizer.Sentencizer object at 0x7be0d421bfd0> (name: 'None').\n\n- If you created your component with `nlp.create_pipe('name')`: remove nlp.create_pipe and call `nlp.add_pipe('name')` instead.\n\n- If you passed in a component like `TextCategorizer()`: call `nlp.add_pipe` with the string name instead, e.g. `nlp.add_pipe('textcat')`.\n\n- If you're using a custom component: Add the decorator `@Language.component` (for function components) or `@Language.factory` (for class components / factories) to your custom component and assign it a name, e.g. `@Language.component('your_name')`. You can then run `nlp.add_pipe('your_name')` to add it to the pipeline.",
     "output_type": "error",
     "traceback": [
      "\u001b[31m---------------------------------------------------------------------------\u001b[39m",
      "\u001b[31mValueError\u001b[39m                                Traceback (most recent call last)",
      "\u001b[36mCell\u001b[39m\u001b[36m \u001b[39m\u001b[32mIn[22]\u001b[39m\u001b[32m, line 3\u001b[39m\n\u001b[32m      1\u001b[39m \u001b[38;5;66;03m# Use the default model\u001b[39;00m\n\u001b[32m----> \u001b[39m\u001b[32m3\u001b[39m \u001b[38;5;28;01mfrom\u001b[39;00m\u001b[38;5;250m \u001b[39m\u001b[34;01msummarizer\u001b[39;00m\u001b[38;5;250m \u001b[39m\u001b[38;5;28;01mimport\u001b[39;00m Summarizer\n\u001b[32m      5\u001b[39m model = Summarizer()\n\u001b[32m      7\u001b[39m text = \u001b[33m'''\u001b[39m\n\u001b[32m      8\u001b[39m \u001b[33mJohn Christopher Depp II (born June 9, 1963) is an American actor, producer, and musician. He has been nominated for ten Golden Globe Awards, winning one for Best Actor for his performance of the title role in Sweeney Todd: The Demon Barber of Fleet Street (2007), and has been nominated for three Academy Awards for Best Actor, among other accolades. He is regarded as one of the world\u001b[39m\u001b[33m'\u001b[39m\u001b[33ms biggest film stars.[1][2] Depp made his film debut in the 1984 film A Nightmare on Elm Street, before rising to prominence as a teen idol on the television series 21 Jump Street (1987–1990). He had a supporting role in Oliver Stone\u001b[39m\u001b[33m'\u001b[39m\u001b[33ms 1986 war film Platoon and played the title character in the 1990 romantic fantasy Edward Scissorhands.\u001b[39m\n\u001b[32m      9\u001b[39m \n\u001b[32m   (...)\u001b[39m\u001b[32m     12\u001b[39m \u001b[33mDepp is the tenth highest-grossing actor worldwide, as films featuring Depp have grossed over US$3.7 billion at the United States box office and over US$10 billion worldwide.[3] He has been listed in the 2012 Guinness World Records as the world\u001b[39m\u001b[33m'\u001b[39m\u001b[33ms highest-paid actor, with earnings of US$75 million.[4][5] Depp has collaborated on eight films with director, producer, and friend Tim Burton. He was inducted as a Disney Legend in 2015.[6] In addition to acting, Depp has also worked as a musician. He has performed in numerous musical groups, including forming the rock supergroup Hollywood Vampires along with Alice Cooper and Joe Perry.\u001b[39m\n\u001b[32m     13\u001b[39m \u001b[33m'''\u001b[39m\n",
      "\u001b[36mFile \u001b[39m\u001b[32m~/GenAI/Portfolio/document-summarization/.env/lib/python3.12/site-packages/summarizer/__init__.py:1\u001b[39m\n\u001b[32m----> \u001b[39m\u001b[32m1\u001b[39m \u001b[38;5;28;01mfrom\u001b[39;00m\u001b[38;5;250m \u001b[39m\u001b[34;01msummarizer\u001b[39;00m\u001b[34;01m.\u001b[39;00m\u001b[34;01mmodel_processors\u001b[39;00m\u001b[38;5;250m \u001b[39m\u001b[38;5;28;01mimport\u001b[39;00m Summarizer, TransformerSummarizer\n",
      "\u001b[36mFile \u001b[39m\u001b[32m~/GenAI/Portfolio/document-summarization/.env/lib/python3.12/site-packages/summarizer/model_processors.py:11\u001b[39m\n\u001b[32m      7\u001b[39m \u001b[38;5;28;01mfrom\u001b[39;00m\u001b[38;5;250m \u001b[39m\u001b[34;01msummarizer\u001b[39;00m\u001b[34;01m.\u001b[39;00m\u001b[34;01mcluster_features\u001b[39;00m\u001b[38;5;250m \u001b[39m\u001b[38;5;28;01mimport\u001b[39;00m ClusterFeatures\n\u001b[32m      8\u001b[39m \u001b[38;5;28;01mfrom\u001b[39;00m\u001b[38;5;250m \u001b[39m\u001b[34;01msummarizer\u001b[39;00m\u001b[34;01m.\u001b[39;00m\u001b[34;01msentence_handler\u001b[39;00m\u001b[38;5;250m \u001b[39m\u001b[38;5;28;01mimport\u001b[39;00m SentenceHandler\n\u001b[32m---> \u001b[39m\u001b[32m11\u001b[39m \u001b[38;5;28;43;01mclass\u001b[39;49;00m\u001b[38;5;250;43m \u001b[39;49m\u001b[34;43;01mModelProcessor\u001b[39;49;00m\u001b[43m(\u001b[49m\u001b[38;5;28;43mobject\u001b[39;49m\u001b[43m)\u001b[49m\u001b[43m:\u001b[49m\n\u001b[32m     13\u001b[39m \u001b[43m    \u001b[49m\u001b[43maggregate_map\u001b[49m\u001b[43m \u001b[49m\u001b[43m=\u001b[49m\u001b[43m \u001b[49m\u001b[43m{\u001b[49m\n\u001b[32m     14\u001b[39m \u001b[43m        \u001b[49m\u001b[33;43m'\u001b[39;49m\u001b[33;43mmean\u001b[39;49m\u001b[33;43m'\u001b[39;49m\u001b[43m:\u001b[49m\u001b[43m \u001b[49m\u001b[43mnp\u001b[49m\u001b[43m.\u001b[49m\u001b[43mmean\u001b[49m\u001b[43m,\u001b[49m\n\u001b[32m     15\u001b[39m \u001b[43m        \u001b[49m\u001b[33;43m'\u001b[39;49m\u001b[33;43mmin\u001b[39;49m\u001b[33;43m'\u001b[39;49m\u001b[43m:\u001b[49m\u001b[43m \u001b[49m\u001b[43mnp\u001b[49m\u001b[43m.\u001b[49m\u001b[43mmin\u001b[49m\u001b[43m,\u001b[49m\n\u001b[32m     16\u001b[39m \u001b[43m        \u001b[49m\u001b[33;43m'\u001b[39;49m\u001b[33;43mmedian\u001b[39;49m\u001b[33;43m'\u001b[39;49m\u001b[43m:\u001b[49m\u001b[43m \u001b[49m\u001b[43mnp\u001b[49m\u001b[43m.\u001b[49m\u001b[43mmedian\u001b[49m\u001b[43m,\u001b[49m\n\u001b[32m     17\u001b[39m \u001b[43m        \u001b[49m\u001b[33;43m'\u001b[39;49m\u001b[33;43mmax\u001b[39;49m\u001b[33;43m'\u001b[39;49m\u001b[43m:\u001b[49m\u001b[43m \u001b[49m\u001b[43mnp\u001b[49m\u001b[43m.\u001b[49m\u001b[43mmax\u001b[49m\n\u001b[32m     18\u001b[39m \u001b[43m    \u001b[49m\u001b[43m}\u001b[49m\n\u001b[32m     20\u001b[39m \u001b[43m    \u001b[49m\u001b[38;5;28;43;01mdef\u001b[39;49;00m\u001b[38;5;250;43m \u001b[39;49m\u001b[34;43m__init__\u001b[39;49m\u001b[43m(\u001b[49m\n\u001b[32m     21\u001b[39m \u001b[43m        \u001b[49m\u001b[38;5;28;43mself\u001b[39;49m\u001b[43m,\u001b[49m\n\u001b[32m     22\u001b[39m \u001b[43m        \u001b[49m\u001b[43mmodel\u001b[49m\u001b[43m:\u001b[49m\u001b[43m \u001b[49m\u001b[38;5;28;43mstr\u001b[39;49m\u001b[43m \u001b[49m\u001b[43m=\u001b[49m\u001b[43m \u001b[49m\u001b[33;43m'\u001b[39;49m\u001b[33;43mbert-large-uncased\u001b[39;49m\u001b[33;43m'\u001b[39;49m\u001b[43m,\u001b[49m\n\u001b[32m   (...)\u001b[39m\u001b[32m     28\u001b[39m \u001b[43m        \u001b[49m\u001b[43mrandom_state\u001b[49m\u001b[43m:\u001b[49m\u001b[43m \u001b[49m\u001b[38;5;28;43mint\u001b[39;49m\u001b[43m \u001b[49m\u001b[43m=\u001b[49m\u001b[43m \u001b[49m\u001b[32;43m12345\u001b[39;49m\n\u001b[32m     29\u001b[39m \u001b[43m    \u001b[49m\u001b[43m)\u001b[49m\u001b[43m:\u001b[49m\n",
      "\u001b[36mFile \u001b[39m\u001b[32m~/GenAI/Portfolio/document-summarization/.env/lib/python3.12/site-packages/summarizer/model_processors.py:27\u001b[39m, in \u001b[36mModelProcessor\u001b[39m\u001b[34m()\u001b[39m\n\u001b[32m     11\u001b[39m \u001b[38;5;28;01mclass\u001b[39;00m\u001b[38;5;250m \u001b[39m\u001b[34;01mModelProcessor\u001b[39;00m(\u001b[38;5;28mobject\u001b[39m):\n\u001b[32m     13\u001b[39m     aggregate_map = {\n\u001b[32m     14\u001b[39m         \u001b[33m'\u001b[39m\u001b[33mmean\u001b[39m\u001b[33m'\u001b[39m: np.mean,\n\u001b[32m     15\u001b[39m         \u001b[33m'\u001b[39m\u001b[33mmin\u001b[39m\u001b[33m'\u001b[39m: np.min,\n\u001b[32m     16\u001b[39m         \u001b[33m'\u001b[39m\u001b[33mmedian\u001b[39m\u001b[33m'\u001b[39m: np.median,\n\u001b[32m     17\u001b[39m         \u001b[33m'\u001b[39m\u001b[33mmax\u001b[39m\u001b[33m'\u001b[39m: np.max\n\u001b[32m     18\u001b[39m     }\n\u001b[32m     20\u001b[39m     \u001b[38;5;28;01mdef\u001b[39;00m\u001b[38;5;250m \u001b[39m\u001b[34m__init__\u001b[39m(\n\u001b[32m     21\u001b[39m         \u001b[38;5;28mself\u001b[39m,\n\u001b[32m     22\u001b[39m         model: \u001b[38;5;28mstr\u001b[39m = \u001b[33m'\u001b[39m\u001b[33mbert-large-uncased\u001b[39m\u001b[33m'\u001b[39m,\n\u001b[32m     23\u001b[39m         custom_model: PreTrainedModel = \u001b[38;5;28;01mNone\u001b[39;00m,\n\u001b[32m     24\u001b[39m         custom_tokenizer: PreTrainedTokenizer = \u001b[38;5;28;01mNone\u001b[39;00m,\n\u001b[32m     25\u001b[39m         hidden: \u001b[38;5;28mint\u001b[39m = -\u001b[32m2\u001b[39m,\n\u001b[32m     26\u001b[39m         reduce_option: \u001b[38;5;28mstr\u001b[39m = \u001b[33m'\u001b[39m\u001b[33mmean\u001b[39m\u001b[33m'\u001b[39m,\n\u001b[32m---> \u001b[39m\u001b[32m27\u001b[39m         sentence_handler: SentenceHandler = \u001b[43mSentenceHandler\u001b[49m\u001b[43m(\u001b[49m\u001b[43m)\u001b[49m,\n\u001b[32m     28\u001b[39m         random_state: \u001b[38;5;28mint\u001b[39m = \u001b[32m12345\u001b[39m\n\u001b[32m     29\u001b[39m     ):\n\u001b[32m     30\u001b[39m \u001b[38;5;250m        \u001b[39m\u001b[33;03m\"\"\"\u001b[39;00m\n\u001b[32m     31\u001b[39m \u001b[33;03m        This is the parent Bert Summarizer model. New methods should implement this class\u001b[39;00m\n\u001b[32m     32\u001b[39m \n\u001b[32m   (...)\u001b[39m\u001b[32m     39\u001b[39m \u001b[33;03m        :param random_state: The random state to reproduce summarizations.\u001b[39;00m\n\u001b[32m     40\u001b[39m \u001b[33;03m        \"\"\"\u001b[39;00m\n\u001b[32m     42\u001b[39m         np.random.seed(random_state)\n",
      "\u001b[36mFile \u001b[39m\u001b[32m~/GenAI/Portfolio/document-summarization/.env/lib/python3.12/site-packages/summarizer/sentence_handler.py:10\u001b[39m, in \u001b[36mSentenceHandler.__init__\u001b[39m\u001b[34m(self, language)\u001b[39m\n\u001b[32m      8\u001b[39m \u001b[38;5;28;01mdef\u001b[39;00m\u001b[38;5;250m \u001b[39m\u001b[34m__init__\u001b[39m(\u001b[38;5;28mself\u001b[39m, language=English):\n\u001b[32m      9\u001b[39m     \u001b[38;5;28mself\u001b[39m.nlp = language()\n\u001b[32m---> \u001b[39m\u001b[32m10\u001b[39m     \u001b[38;5;28;43mself\u001b[39;49m\u001b[43m.\u001b[49m\u001b[43mnlp\u001b[49m\u001b[43m.\u001b[49m\u001b[43madd_pipe\u001b[49m\u001b[43m(\u001b[49m\u001b[38;5;28;43mself\u001b[39;49m\u001b[43m.\u001b[49m\u001b[43mnlp\u001b[49m\u001b[43m.\u001b[49m\u001b[43mcreate_pipe\u001b[49m\u001b[43m(\u001b[49m\u001b[33;43m'\u001b[39;49m\u001b[33;43msentencizer\u001b[39;49m\u001b[33;43m'\u001b[39;49m\u001b[43m)\u001b[49m\u001b[43m)\u001b[49m\n",
      "\u001b[36mFile \u001b[39m\u001b[32m~/GenAI/Portfolio/document-summarization/.env/lib/python3.12/site-packages/spacy/language.py:810\u001b[39m, in \u001b[36mLanguage.add_pipe\u001b[39m\u001b[34m(self, factory_name, name, before, after, first, last, source, config, raw_config, validate)\u001b[39m\n\u001b[32m    808\u001b[39m     bad_val = \u001b[38;5;28mrepr\u001b[39m(factory_name)\n\u001b[32m    809\u001b[39m     err = Errors.E966.format(component=bad_val, name=name)\n\u001b[32m--> \u001b[39m\u001b[32m810\u001b[39m     \u001b[38;5;28;01mraise\u001b[39;00m \u001b[38;5;167;01mValueError\u001b[39;00m(err)\n\u001b[32m    811\u001b[39m name = name \u001b[38;5;28;01mif\u001b[39;00m name \u001b[38;5;129;01mis\u001b[39;00m \u001b[38;5;129;01mnot\u001b[39;00m \u001b[38;5;28;01mNone\u001b[39;00m \u001b[38;5;28;01melse\u001b[39;00m factory_name\n\u001b[32m    812\u001b[39m \u001b[38;5;28;01mif\u001b[39;00m name \u001b[38;5;129;01min\u001b[39;00m \u001b[38;5;28mself\u001b[39m.component_names:\n",
      "\u001b[31mValueError\u001b[39m: [E966] `nlp.add_pipe` now takes the string name of the registered component factory, not a callable component. Expected string, but got <spacy.pipeline.sentencizer.Sentencizer object at 0x7be0d421bfd0> (name: 'None').\n\n- If you created your component with `nlp.create_pipe('name')`: remove nlp.create_pipe and call `nlp.add_pipe('name')` instead.\n\n- If you passed in a component like `TextCategorizer()`: call `nlp.add_pipe` with the string name instead, e.g. `nlp.add_pipe('textcat')`.\n\n- If you're using a custom component: Add the decorator `@Language.component` (for function components) or `@Language.factory` (for class components / factories) to your custom component and assign it a name, e.g. `@Language.component('your_name')`. You can then run `nlp.add_pipe('your_name')` to add it to the pipeline."
     ]
    }
   ],
   "source": [
    "# Use the default model\n",
    "\n",
    "from summarizer import Summarizer\n",
    "\n",
    "model = Summarizer()\n",
    "\n",
    "text = '''\n",
    "John Christopher Depp II (born June 9, 1963) is an American actor, producer, and musician. He has been nominated for ten Golden Globe Awards, winning one for Best Actor for his performance of the title role in Sweeney Todd: The Demon Barber of Fleet Street (2007), and has been nominated for three Academy Awards for Best Actor, among other accolades. He is regarded as one of the world's biggest film stars.[1][2] Depp made his film debut in the 1984 film A Nightmare on Elm Street, before rising to prominence as a teen idol on the television series 21 Jump Street (1987–1990). He had a supporting role in Oliver Stone's 1986 war film Platoon and played the title character in the 1990 romantic fantasy Edward Scissorhands.\n",
    "\n",
    "Depp has gained critical praise for his portrayals of inept screenwriter-director Ed Wood in the film of the same name (1994), undercover FBI agent Joseph D. Pistone in Donnie Brasco (1997), author J. M. Barrie in Finding Neverland (2004) and Boston gangster Whitey Bulger in Black Mass (2015). He has starred in a number of successful films, including Cry-Baby (1990), Dead Man (1995), Sleepy Hollow (1999), Charlie and the Chocolate Factory (2005), Corpse Bride (2005), Public Enemies (2009), Alice in Wonderland (2010) and its 2016 sequel, The Tourist (2010), Rango (2011), Dark Shadows (2012), Into the Woods (2014), and Fantastic Beasts: The Crimes of Grindelwald (2018). Depp also plays Jack Sparrow in the swashbuckler film series Pirates of the Caribbean (2003–present).\n",
    "\n",
    "Depp is the tenth highest-grossing actor worldwide, as films featuring Depp have grossed over US$3.7 billion at the United States box office and over US$10 billion worldwide.[3] He has been listed in the 2012 Guinness World Records as the world's highest-paid actor, with earnings of US$75 million.[4][5] Depp has collaborated on eight films with director, producer, and friend Tim Burton. He was inducted as a Disney Legend in 2015.[6] In addition to acting, Depp has also worked as a musician. He has performed in numerous musical groups, including forming the rock supergroup Hollywood Vampires along with Alice Cooper and Joe Perry.\n",
    "'''\n",
    "\n",
    "model(text, min_length=60, ratio=0.01)\n"
   ]
  }
 ],
 "metadata": {
  "kernelspec": {
   "display_name": ".env",
   "language": "python",
   "name": "python3"
  },
  "language_info": {
   "codemirror_mode": {
    "name": "ipython",
    "version": 3
   },
   "file_extension": ".py",
   "mimetype": "text/x-python",
   "name": "python",
   "nbconvert_exporter": "python",
   "pygments_lexer": "ipython3",
   "version": "3.12.3"
  }
 },
 "nbformat": 4,
 "nbformat_minor": 2
}
